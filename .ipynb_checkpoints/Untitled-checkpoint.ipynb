{
 "cells": [
  {
   "cell_type": "code",
   "execution_count": 1,
   "metadata": {},
   "outputs": [],
   "source": [
    "from rasa_core_sdk import Action\n",
    "from rasa_core_sdk.events import SlotSet\n",
    "from rasa_core_sdk.forms import FormAction, EntityFormField"
   ]
  },
  {
   "cell_type": "code",
   "execution_count": null,
   "metadata": {},
   "outputs": [],
   "source": [
    "class ActionSearchRestaurants(FormAction):\n",
    "    RANDOMIZE = False\n",
    "\n",
    "    @staticmethod\n",
    "    def required_fields():\n",
    "        return [\n",
    "            EntityFormField(\"problem\", \"problem\"),\n",
    "            EntityFormField(\"issue\", \"issue\"),\n",
    "#             BooleanFormField(\"vegetarian\", \"affirm\", \"deny\")\n",
    "            EntityFormField(\"problem\", \"problem\"),\n",
    "            EntityFormField(\"model_number\", \"model_number\"),\n",
    "            EntityFormField(\"serial_number\", \"serial_number\"),\n",
    "            EntityFormField(\"name\", \"name\"),\n",
    "            EntityFormField(\"email\", \"email\"),\n",
    "            EntityFormField(\"pincode\", \"pincode\"),\n",
    "            EntityFormField(\"date\", \"date\"),\n",
    "            EntityFormField(\"timeslots\", \"timeslots\"),\n",
    "        ]\n",
    "\n",
    "    def name(self):\n",
    "        return 'action_get_complaint_details'\n",
    "\n",
    "    def submit(self, dispatcher, tracker, domain):\n",
    "#         dispatcher // padho\n",
    "        return []"
   ]
  }
 ],
 "metadata": {
  "kernelspec": {
   "display_name": "Python 3",
   "language": "python",
   "name": "python3"
  },
  "language_info": {
   "codemirror_mode": {
    "name": "ipython",
    "version": 3
   },
   "file_extension": ".py",
   "mimetype": "text/x-python",
   "name": "python",
   "nbconvert_exporter": "python",
   "pygments_lexer": "ipython3",
   "version": "3.6.2"
  }
 },
 "nbformat": 4,
 "nbformat_minor": 2
}
